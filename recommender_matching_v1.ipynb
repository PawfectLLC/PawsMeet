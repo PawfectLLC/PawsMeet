{
 "cells": [
  {
   "cell_type": "code",
   "execution_count": 16,
   "id": "cebd755f",
   "metadata": {},
   "outputs": [
    {
     "name": "stdout",
     "output_type": "stream",
     "text": [
      "Requirement already satisfied: Metaphone in /Users/lyuxiaoxi/miniforge3/lib/python3.9/site-packages (0.6)\r\n"
     ]
    }
   ],
   "source": [
    "from sklearn.feature_extraction.text import TfidfVectorizer\n",
    "from sklearn.metrics.pairwise import cosine_similarity\n",
    "!pip install Metaphone\n",
    "from metaphone import doublemetaphone\n",
    "import numpy as np\n",
    "\n",
    "from joblib import Parallel, delayed\n",
    "import functools\n",
    "from cachetools import cached, TTLCache"
   ]
  },
  {
   "cell_type": "code",
   "execution_count": 17,
   "id": "4126fd9b",
   "metadata": {},
   "outputs": [],
   "source": [
    "# Example database of pets with 'pid', 'breeds', and 'about'\n",
    "pets_database = [\n",
    "    {'pid': 1, 'breeds': 'Labrador', 'about': 'Friendly and playful puppy.'},\n",
    "    {'pid': 2, 'breeds': 'Siamese', 'about': 'Independent and curious cat.'},\n",
    "    {'pid': 3, 'breeds': 'Beagle', 'about': 'Gentle and determined dog, great with kids.'},\n",
    "    {'pid': 4, 'breeds': 'Persian', 'about': 'Quiet and plush cat with a sweet expression.'},\n",
    "    {'pid': 5, 'breeds': 'Bulldog', 'about': 'Docile and willful dog, known for its loose, wrinkled skin.'},\n",
    "    {'pid': 6, 'breeds': 'Maine Coon', 'about': 'Friendly giant with tufted ears, enjoying both play and rest.'},\n",
    "    {'pid': 7, 'breeds': 'Poodle', 'about': 'Intelligent and active dog, known for its curly, hypoallergenic coat.'},\n",
    "    {'pid': 8, 'breeds': 'Sphinx', 'about': 'A hairless and energetic cat, affectionate with family.'},\n",
    "    {'pid': 9, 'breeds': 'Golden Retriever', 'about': 'Intelligent and friendly, perfect family dog.'},\n",
    "    {'pid': 10, 'breeds': 'Ragdoll', 'about': 'Blue-eyed cat breed, known for its docile nature and affectionate behavior.'}\n",
    "]"
   ]
  },
  {
   "cell_type": "code",
   "execution_count": 18,
   "id": "947de093",
   "metadata": {},
   "outputs": [
    {
     "name": "stdout",
     "output_type": "stream",
     "text": [
      "Please enter the description and breed of the pet you're looking for: friendl\n",
      "Pet ID 1: Score = 0.10\n",
      "Pet ID 2: Score = 0.00\n",
      "Pet ID 3: Score = 0.00\n",
      "Pet ID 4: Score = 0.00\n",
      "Pet ID 5: Score = 0.00\n",
      "Pet ID 6: Score = 0.03\n",
      "Pet ID 7: Score = 0.00\n",
      "Pet ID 8: Score = 0.00\n",
      "Pet ID 9: Score = 0.06\n",
      "Pet ID 10: Score = 0.00\n"
     ]
    }
   ],
   "source": [
    "\"\"\"\n",
    "phonetic_code and phonetic_similarity:\n",
    "\n",
    "These functions are used to process and compare text based on how it sounds rather than how it is spelled. \n",
    "\n",
    "1. Improving Search Functionality: Phonetic coding enables the system to match user queries with phonetically similar terms, accommodating users who may be unsure of spellings but can articulate the word.\n",
    "\n",
    "2. Data Cleaning: Phonetic coding is useful for consolidating data entries that have different spellings but the same pronunciation, which is particularly common with names and geographical locations.\n",
    "\n",
    "3. Voice Recognition Systems: By focusing on pronunciation rather than spelling, phonetic codes improve the accuracy of voice recognition technologies, allowing for more flexible user interactions.\n",
    "\n",
    "4. Natural Language Processing (NLP): Phonetic coding assists in recognizing spoken keywords in speech recognition, effectively accommodating for variations in pronunciation due to accents or speech disorders.\n",
    "\"\"\"\n",
    "\n",
    "# Function to get the phonetic code of text\n",
    "def phonetic_code(text):\n",
    "    words = text.split()\n",
    "    codes = [doublemetaphone(word) for word in words]\n",
    "    # Flatten the list of tuples and remove None values\n",
    "    return [code for sublist in codes for code in sublist if code]\n",
    "\n",
    "# Function to calculate phonetic similarity\n",
    "def phonetic_similarity(input_codes, pet_codes):\n",
    "    # Count the number of phonetic codes that match\n",
    "    return sum(1 for code in input_codes if code in pet_codes) / len(pet_codes) if pet_codes else 0\n",
    "\n",
    "# Function to calculate matching scores and return scores with pet IDs\n",
    "def calculate_matching_scores(input_text, pets, max_length=50):\n",
    "    if len(input_text) > max_length:\n",
    "        raise ValueError(f\"The input text is too long. Maximum length is {max_length} characters.\")\n",
    "    \n",
    "    # Get phonetic codes for the input text\n",
    "    input_codes = phonetic_code(input_text)\n",
    "\n",
    "    # Combine 'about' and 'breeds' from the database into a list and calculate phonetic codes\n",
    "    combined_texts = [pet['about'] + \" \" + pet['breeds'] for pet in pets]\n",
    "    pet_codes_list = [phonetic_code(text) for text in combined_texts]\n",
    "\n",
    "    # Add the input text to the list for vectorization\n",
    "    combined_texts.append(input_text)\n",
    "\n",
    "    # Create the TfidfVectorizer object and convert the combined text into TF-IDF vectors\n",
    "    vectorizer = TfidfVectorizer()\n",
    "    tfidf_matrix = vectorizer.fit_transform(combined_texts)\n",
    "\n",
    "    # Calculate cosine similarities for TF-IDF vectors\n",
    "    cosine_similarities = cosine_similarity(tfidf_matrix[-1], tfidf_matrix[:-1]).flatten().tolist()\n",
    "\n",
    "    # Calculate phonetic similarities\n",
    "    phonetic_similarities = [phonetic_similarity(input_codes, pet_codes) for pet_codes in pet_codes_list]\n",
    "\n",
    "    # Combine TF-IDF and phonetic similarities\n",
    "    # Here you may decide on a strategy to combine these scores, e.g., averaging them\n",
    "    combined_scores = [(pet['pid'], (tfidf_score + phonetic_score) / 2)\n",
    "                       for pet, tfidf_score, phonetic_score in zip(pets, cosine_similarities, phonetic_similarities)]\n",
    "\n",
    "    \"\"\"\n",
    "    Further improvement: Optimized Combination of Scores \n",
    "    The way we combine TF-IDF and phonetic scores could be optimized based on the importance of each feature. \n",
    "    This could be a weighted average instead of a simple average if one of the scores is deemed more important.\n",
    "    \"\"\"\n",
    "    \n",
    "    return combined_scores\n",
    "\n",
    "# Input text from the user\n",
    "user_input = input(\"Please enter the description and breed of the pet you're looking for: \")\n",
    "\n",
    "# Execute the matching score calculation and handle potential errors\n",
    "try:\n",
    "    # Calculate matching scores\n",
    "    scored_pets = calculate_matching_scores(user_input, pets_database)\n",
    "\n",
    "    # Print the matching score and pet ID for each pet\n",
    "    for pid, score in scored_pets:\n",
    "        print(f\"Pet ID {pid}: Score = {score:.2f}\")\n",
    "\n",
    "except ValueError as e:\n",
    "    print(e)"
   ]
  },
  {
   "cell_type": "code",
   "execution_count": null,
   "id": "61b97e3e",
   "metadata": {},
   "outputs": [],
   "source": []
  }
 ],
 "metadata": {
  "kernelspec": {
   "display_name": "Python 3 (ipykernel)",
   "language": "python",
   "name": "python3"
  },
  "language_info": {
   "codemirror_mode": {
    "name": "ipython",
    "version": 3
   },
   "file_extension": ".py",
   "mimetype": "text/x-python",
   "name": "python",
   "nbconvert_exporter": "python",
   "pygments_lexer": "ipython3",
   "version": "3.9.7"
  }
 },
 "nbformat": 4,
 "nbformat_minor": 5
}
